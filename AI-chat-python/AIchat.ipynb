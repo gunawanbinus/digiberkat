{
  "nbformat": 4,
  "nbformat_minor": 0,
  "metadata": {
    "colab": {
      "machine_shape": "hm",
      "gpuType": "T4",
      "provenance": [],
      "toc_visible": true
    },
    "accelerator": "GPU",
    "kaggle": {
      "accelerator": "gpu"
    },
    "language_info": {
      "name": "python"
    },
    "kernelspec": {
      "name": "python3",
      "display_name": "Python 3"
    }
  },
  "cells": [
    {
      "cell_type": "markdown",
      "source": [
        "Model page: https://api-inference.huggingface.co/models/LazarusNLP/all-indo-e5-small-v4\n",
        "\n"
      ],
      "metadata": {
        "id": "a3gF7HeZBopA"
      }
    },
    {
      "cell_type": "code",
      "source": [
        "# ================== INSTALL (hanya sekali) ==================\n",
        "!pip install flask flask-cors pyngrok requests numpy scikit-learn --quiet\n",
        "\n",
        "# ================== CONFIGURATION ==================\n",
        "HF_TOKEN = \"hf_token here\"  # Ganti dengan HuggingFace token kamu\n",
        "NGROK_AUTH_TOKEN = \"token here\"  # Ganti dengan Ngrok token kamu\n",
        "\n",
        "# ================== IMPORTS ==================\n",
        "import requests\n",
        "from flask import Flask, request, jsonify\n",
        "from flask_cors import CORS\n",
        "import numpy as np\n",
        "import json\n",
        "from pyngrok import ngrok\n",
        "from threading import Thread\n",
        "\n",
        "# ================== HuggingFace API Config ==================\n",
        "API_URL = \"https://api-inference.huggingface.co/models/LazarusNLP/all-indo-e5-small-v4\"\n",
        "HEADERS = {\"Authorization\": f\"Bearer {HF_TOKEN}\"}\n",
        "\n",
        "# ================== Sentence Similarity ==================\n",
        "def get_similarity_scores_from_api(source_sentence, candidate_sentences):\n",
        "    payload = {\n",
        "        \"inputs\": {\n",
        "            \"source_sentence\": source_sentence,\n",
        "            \"sentences\": candidate_sentences\n",
        "        }\n",
        "    }\n",
        "    try:\n",
        "        response = requests.post(API_URL, headers=HEADERS, json=payload)\n",
        "        response.raise_for_status()\n",
        "        return response.json()\n",
        "    except requests.exceptions.RequestException as e:\n",
        "        print(f\"❌ Error HuggingFace: {e}\")\n",
        "        return None\n",
        "\n",
        "# ================== Product Recommender ==================\n",
        "def recommend_products(user_query, product_database, top_n=3):\n",
        "    candidate_sentences = []\n",
        "    index_map = []\n",
        "\n",
        "    for idx, p in enumerate(product_database):\n",
        "        if p.get(\"search_vector\") and p[\"search_vector\"] != \"null\":\n",
        "            candidate_sentences.append(p[\"search_vector\"])\n",
        "            index_map.append(idx)\n",
        "        elif p.get(\"description\"):\n",
        "            candidate_sentences.append(p[\"description\"])\n",
        "            index_map.append(idx)\n",
        "        else:\n",
        "            candidate_sentences.append(p[\"name\"])\n",
        "            index_map.append(idx)\n",
        "\n",
        "    print(f\"\\n[DEBUG] Total kandidat: {len(candidate_sentences)}\")\n",
        "    print(f\"[DEBUG] Kalimat kandidat: {candidate_sentences}\")\n",
        "\n",
        "    similarity_scores = get_similarity_scores_from_api(user_query, candidate_sentences)\n",
        "    if similarity_scores is None:\n",
        "        return []\n",
        "\n",
        "    print(f\"[DEBUG] Similarity scores: {similarity_scores}\")\n",
        "\n",
        "    similarity_scores = np.array(similarity_scores)\n",
        "    ranked_indices = np.argsort(similarity_scores)[::-1]\n",
        "\n",
        "    recommendations = []\n",
        "    for i in range(min(top_n, len(ranked_indices))):\n",
        "        idx = ranked_indices[i]\n",
        "        original_idx = index_map[idx]\n",
        "        product = product_database[original_idx].copy()\n",
        "        product[\"similarity_score\"] = float(similarity_scores[idx])\n",
        "        recommendations.append(product)\n",
        "\n",
        "    print(f\"[DEBUG] Total rekomendasi: {len(recommendations)}\\n\")\n",
        "    return recommendations\n",
        "\n",
        "# ================== Flask API ==================\n",
        "app = Flask(__name__)\n",
        "CORS(app)\n",
        "\n",
        "@app.route('/')\n",
        "def home():\n",
        "    return \"✅ AI Product Recommender API is running!\"\n",
        "\n",
        "@app.route('/recommend', methods=['POST'])\n",
        "def get_recommendations():\n",
        "    data = request.get_json()\n",
        "    user_query = data.get(\"userQuery\")\n",
        "    products = data.get(\"products\")\n",
        "\n",
        "    if not user_query or not products:\n",
        "        return jsonify({\"error\": \"❌ Missing userQuery or products\"}), 400\n",
        "\n",
        "    recommended = recommend_products(user_query, products, top_n=3)\n",
        "    return jsonify({\n",
        "        \"data\": recommended,\n",
        "        \"message\": \"✅ Rekomendasi produk berhasil diambil\"\n",
        "    }), 200\n",
        "\n",
        "# ================== Run Flask in Background ==================\n",
        "def run_flask():\n",
        "    app.run(host=\"0.0.0.0\", port=5000, debug=False)\n",
        "\n",
        "flask_thread = Thread(target=run_flask)\n",
        "flask_thread.daemon = True\n",
        "flask_thread.start()\n",
        "\n",
        "# ================== Ngrok Tunnel ==================\n",
        "ngrok.set_auth_token(NGROK_AUTH_TOKEN)\n",
        "public_url = ngrok.connect(5000).public_url\n",
        "print(f\"\\n🚀 Ngrok URL: {public_url}/recommend\")\n",
        "print(\"✅ API sudah siap! Coba POST pakai Postman/curl.\")\n"
      ],
      "metadata": {
        "colab": {
          "base_uri": "https://localhost:8080/"
        },
        "id": "FC4WEjE9hViq",
        "outputId": "3dffde3e-a88e-407c-f63d-abdc7151ae9e"
      },
      "execution_count": null,
      "outputs": [
        {
          "output_type": "stream",
          "name": "stdout",
          "text": [
            "Downloading ngrok ...\r * Serving Flask app '__main__'\n",
            " * Debug mode: off\n"
          ]
        },
        {
          "output_type": "stream",
          "name": "stderr",
          "text": [
            "INFO:werkzeug:\u001b[31m\u001b[1mWARNING: This is a development server. Do not use it in a production deployment. Use a production WSGI server instead.\u001b[0m\n",
            " * Running on all addresses (0.0.0.0)\n",
            " * Running on http://127.0.0.1:5000\n",
            " * Running on http://172.28.0.12:5000\n",
            "INFO:werkzeug:\u001b[33mPress CTRL+C to quit\u001b[0m\n"
          ]
        },
        {
          "output_type": "stream",
          "name": "stdout",
          "text": [
            "\n",
            "🚀 Ngrok URL: https://f82a-34-142-237-143.ngrok-free.app/recommend\n",
            "✅ API sudah siap! Coba POST pakai Postman/curl.\n"
          ]
        }
      ]
    }
  ]
}